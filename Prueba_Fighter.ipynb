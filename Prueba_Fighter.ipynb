{
  "nbformat": 4,
  "nbformat_minor": 0,
  "metadata": {
    "colab": {
      "provenance": [],
      "collapsed_sections": [],
      "include_colab_link": true
    },
    "kernelspec": {
      "name": "python3",
      "display_name": "Python 3"
    },
    "language_info": {
      "name": "python"
    }
  },
  "cells": [
    {
      "cell_type": "markdown",
      "metadata": {
        "id": "view-in-github",
        "colab_type": "text"
      },
      "source": [
        "<a href=\"https://colab.research.google.com/github/thundersant/PROGCOM-B/blob/main/Prueba_Fighter.ipynb\" target=\"_parent\"><img src=\"https://colab.research.google.com/assets/colab-badge.svg\" alt=\"Open In Colab\"/></a>"
      ]
    },
    {
      "cell_type": "code",
      "source": [
        "#Ejercicio 1\n",
        "print('Escribe un numero entero: ')\n",
        "nNumero1=int(input())\n",
        "print('Escriba un segundo numero:')\n",
        "nNumero2=int(input())\n",
        "division=(nNumero1/nNumero2)\n",
        "modulo=(nNumero1%nNumero2)\n",
        "Result=(f'La division es exacta. El resultado es : cociente={int(division)}') if modulo==0  else (f'La division no es exacta. El resultado es : cociente={division} y el resto= {modulo}')\n",
        "print(Result)"
      ],
      "metadata": {
        "colab": {
          "base_uri": "https://localhost:8080/"
        },
        "id": "_bpssK6KTpdm",
        "outputId": "6a11ed7a-bb06-4913-e639-e08800d5a831"
      },
      "execution_count": null,
      "outputs": [
        {
          "output_type": "stream",
          "name": "stdout",
          "text": [
            "Escribe un numero entero: \n",
            "2\n",
            "Escriba un segundo numero:\n",
            "2\n",
            "La division es exacta. El resultado es : cociente=1\n"
          ]
        }
      ]
    },
    {
      "cell_type": "code",
      "execution_count": null,
      "metadata": {
        "id": "bTjLVx2Xs8R4"
      },
      "outputs": [],
      "source": [
        "#Ejercicio 2\n",
        "print(\"Este programa solicita 2 números y verificará si uno es múltiplo de otro\")\n",
        "\n",
        "n1=int(input(\"Ingrese el primer número: \"))\n",
        "n2=int(input(\"Ingrese el segundo número: \"))\n",
        "rta=(n1%n2)\n",
        "RTA=\"Si es múltiplo\" if rta==0 else \"No es múltiplo\"\n",
        "print(RTA)"
      ]
    },
    {
      "cell_type": "code",
      "source": [
        "#Ejercicio3\n",
        "#3.\tEscriba un programa que ordene, de menor a mayor, las edades de tres hermanos. ¿Qué pasaría si son gemelos? ¿Qué pasaría si son trillizos?\n",
        "\n",
        "h1 = int(input(\"Digita la edad del primer hermano: \"))\n",
        "h2 = int(input(\"Digita la edad del segundo hermano: \"))\n",
        "h3 = int(input(\"Digita la edad del tercer hermano: \"))\n",
        "\n",
        "orden = \"el primer hermano es el mayor\"  if h1>h2 and h1>h3 else  \"el segundo hermano es el mayor\", \"el tercer hermano es el mayor\" if h3>h1 and h3>h2 else  \"El primer y segundo hermano son gemelos\" if h1==h2 else \"El segundo y tercer hermano son gemelos\" if h2==h3 else \"El primero y tercer hemano son gemelos \" if h1==h3 else \"son trillizos\" if h1==h2==h3 else \"no son trillizos\"\n",
        "print(orden)"
      ],
      "metadata": {
        "id": "OL0RavwqS9GL"
      },
      "execution_count": null,
      "outputs": []
    },
    {
      "cell_type": "code",
      "source": [
        "#ejercicio 4 \n",
        "Nom=str(input(\"digite su nombre\"))\n",
        "Pat=int(input(\"ingrese su patrimonio bruto al término del año 2021 sin puntos ni comas\"))\n",
        "Ing=int(input(\"ingrese sus ingresos totales del ejercicio gravable para el año 2022 sin puntos ni comas\"))\n",
        "Tar=int(input(\"ingrese su gastos por medio de tarjeta de crédito para el año 2022 sin puntos ni comas \"))\n",
        "Com=int(input(\"ingrese el valor total de las compras y consumos para el  año 2022 sin puntos ni comas\"))\n",
        "Con=int(input(\"ingrese el valor total acumulado de consignaciones bancarias, depósitos o inversiones financieras para el  año 2022 sin puntos ni comas \"))\n",
        "Dian=\"Usted\",Nom,\"Debe declarar Renta para el año 2022\",\"no olvide realizarla con ayuda de su contador de confianza\" if Pat >= 163386000 or Ing >= 50831000 or Tar >= 50831000 or Com >= 50831000 or Con >= 50831000 else \"usted\",Nom,\"No debe presentar Declaracion de Renta para el año 2022\"\n",
        "print(Dian)"
      ],
      "metadata": {
        "id": "pXjiV4aWKl6Z"
      },
      "execution_count": null,
      "outputs": []
    },
    {
      "cell_type": "code",
      "source": [
        "#Ejercicio 6\n",
        "nt1=int(input(\"ingrese su primera nota \"))\n",
        "nt2=int(input(\"ingrese su segunda nota \"))\n",
        "nt3=int(input(\"ingrese su tercera nota \"))\n",
        "nt4=int(input(\"ingrese su cuarta nota \"))\n",
        "snt=nt1+nt2+nt3+nt4\n",
        "ntf=snt/4 \n",
        "\n",
        "nf=\"Queda eximido del ultimo examen\" if ntf>4.5 else \"debe presentar el examen\" if ntf>3.5 else \"debe presentar el examen y entregar un trabajo\" if ntf>3.0 else\"debe presentar habilitación\" if ntf>2.0 else\"perdio la materia irremediablemente\"\n",
        "\n",
        "print(nf, \"su nota final es\",ntf)"
      ],
      "metadata": {
        "id": "Q2Ch-iQYKmAw"
      },
      "execution_count": null,
      "outputs": []
    },
    {
      "cell_type": "code",
      "source": [
        "\n",
        "\n"
      ],
      "metadata": {
        "id": "60flXpjrNILt"
      },
      "execution_count": null,
      "outputs": []
    },
    {
      "cell_type": "code",
      "source": [
        "#Ejercicio 8\n",
        "numero = int(input(\"Ingresa un numero\"))\n",
        "print(\"El numero es bisiesto\") if (numero%4==0 and numero%100!=0) else print(\"El numero no es bisiesto\")"
      ],
      "metadata": {
        "id": "kFybH6S1KmEi"
      },
      "execution_count": null,
      "outputs": []
    },
    {
      "cell_type": "code",
      "source": [
        "#Ejercicio 16\n",
        "print(\"Ingresa 2 usuarios\") \n",
        "user1=input(\" usuario 1\") \n",
        "user2=input(\" usuario 2\")\n",
        "if user1[0:1]==user2[0:1]:print(\"Coincidencia\")  \n",
        "else:print(\"No hay coincidencia\")"
      ],
      "metadata": {
        "id": "d2VTHOLKPVoF",
        "colab": {
          "base_uri": "https://localhost:8080/"
        },
        "outputId": "eb536680-d3f1-4c62-ca65-bbd078ce3b64"
      },
      "execution_count": null,
      "outputs": [
        {
          "output_type": "stream",
          "name": "stdout",
          "text": [
            "Ingresa 2 usuarios\n",
            " usuario 1Maria\n",
            " usuario 2Martha\n",
            "Coincidencia\n"
          ]
        }
      ]
    },
    {
      "cell_type": "code",
      "source": [
        "#Ejercicio 14\n",
        "letra= str(input(\"Dame un letra y te dire si es vocal o consonante: \")).lower()\n",
        "tipo1=(\"Es vocal\") if letra ==\"a\" or letra==\"e\" or letra==\"i\" or letra==\"o\" or letra==\"u\" else \"No es vocal\"\n",
        "tipo2=(\"Es consonante\") if letra== \"b\" or letra== \"c\" or letra== \"d\" or letra== \"f\" or letra== \"g\" or letra== \"h\" or letra== \"j\" or letra== \"k\" or letra== \"l\" or letra== \"m\" or letra== \"n\" or letra== \"o\" or letra== \"p\" or letra== \"q\" or letra== \"r\" or letra== \"s\" or letra== \"t\" or letra== \"v\" or letra== \"x\" or letra== \"w\" or letra== \"y\" or letra== \"z\" else (\"No es consonante.\")\n",
        "print(tipo1)\n",
        "print(tipo2)"
      ],
      "metadata": {
        "id": "PUKm_FHwVy6H"
      },
      "execution_count": null,
      "outputs": []
    },
    {
      "cell_type": "code",
      "source": [
        "#Ejercicio 15\n",
        "tex = int(input(\"\")) \n",
        "Result= abs(tex) if tex<0 else (f\"{tex}\")\n",
        "print(Result)"
      ],
      "metadata": {
        "id": "9at6-URpUido"
      },
      "execution_count": null,
      "outputs": []
    },
    {
      "cell_type": "code",
      "source": [
        "#Ejercicio 18\n",
        "numero=int(input(\"Ingrese un número: \"))\n",
        "dato=\"Solo se calculan las 3 últimas cifras\" if numero>=1000 else \"La respuesta es:\"\n",
        "print(dato)\n",
        "centenas=(numero%1000-numero%100)//100\n",
        "decenas=(numero%100-numero%10)//10\n",
        "unidades=numero%10\n",
        "print(\"Tiene\", centenas,\"centenas,\", \"tiene\", decenas, \"decenas\", \"y tiene\", unidades, \"unidades\")"
      ],
      "metadata": {
        "id": "Du6wSMcvT_mL"
      },
      "execution_count": null,
      "outputs": []
    },
    {
      "cell_type": "code",
      "source": [
        "#Ejercicio 19\n",
        "\n",
        "print(\"Este prgrama verificará si una palabra es palíndromo o no\")\n",
        "p=str(input(\"Ingrese una palabra: \"))\n",
        "p=p.upper()\n",
        "\n",
        "rta=\"Es un palíndromo\" if (p) == (p)[::-1] else \"No es un palíndromo\"\n",
        "print(rta)"
      ],
      "metadata": {
        "id": "ge8JnE7zRCDW"
      },
      "execution_count": null,
      "outputs": []
    },
    {
      "cell_type": "code",
      "source": [
        "#Ejercicio 20\n",
        "\n",
        "print(\"Este prgrama verificará si un número es palíndromo o no\")\n",
        "p=int(input(\"Ingrese el número: \"))\n",
        "\n",
        "rta=\"Es un palíndromo\" if  str(p) == str(p)[::-1] else \"No es un palíndromo\"\n",
        "print(rta)"
      ],
      "metadata": {
        "id": "erJyfp_zRL9u"
      },
      "execution_count": null,
      "outputs": []
    }
  ]
}