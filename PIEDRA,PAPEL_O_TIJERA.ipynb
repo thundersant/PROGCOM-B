{
  "nbformat": 4,
  "nbformat_minor": 0,
  "metadata": {
    "colab": {
      "provenance": []
    },
    "kernelspec": {
      "name": "python3",
      "display_name": "Python 3"
    },
    "language_info": {
      "name": "python"
    }
  },
  "cells": [
    {
      "cell_type": "code",
      "execution_count": 9,
      "metadata": {
        "id": "njWDmc1ZbKeo",
        "colab": {
          "base_uri": "https://localhost:8080/",
          "height": 884
        },
        "outputId": "66552064-4c3b-4b45-d451-b83b77f6cc37"
      },
      "outputs": [
        {
          "output_type": "stream",
          "name": "stdout",
          "text": [
            "elije:piedra,papel,tijera,lagarto,spock,papa,heavy ó reglas si no las conocesreglas\n",
            "tijera corta papel paper,\n",
            " papel cubre la piedra.\n",
            " piedra espicha lagarto.\n",
            " lagarto envenena Spock.\n",
            " Spock desvanece tijera.\n",
            " tijera decapita lagarto.\n",
            " lagarto se come el papel.\n",
            " Papel refuta Spock.\n",
            " Spock vaporiza la piedra.\n",
            " piedra rompe  tijera.\n",
            " papa ignora piedra.\n",
            " papa rompe papel.\n",
            " papa daña tijera.\n",
            " heavy corrompe papa.\n",
            " heavy mata lagarto.\n",
            " heavy endemonia a spock.\n",
            " ahora... buena suerte!!\n",
            "\n",
            "La pc ha seleccionado reglas\n",
            "\n",
            "perdiste,reglas pierde contrareglas\n",
            "---------------Fin del juego---------------\n",
            "elije:piedra,papel,tijera,lagarto,spock,papa,heavy ó reglas si no las conocespiedra\n",
            "\n",
            "La pc ha seleccionado tijera\n",
            "\n",
            "¡Ganaste!,piedra gana contra la tijera\n",
            "---------------Fin del juego---------------\n"
          ]
        },
        {
          "output_type": "error",
          "ename": "KeyboardInterrupt",
          "evalue": "ignored",
          "traceback": [
            "\u001b[0;31m---------------------------------------------------------------------------\u001b[0m",
            "\u001b[0;31mKeyboardInterrupt\u001b[0m                         Traceback (most recent call last)",
            "\u001b[0;32m<ipython-input-9-e9296ea88bf1>\u001b[0m in \u001b[0;36m<module>\u001b[0;34m\u001b[0m\n\u001b[1;32m      7\u001b[0m \u001b[0;34m\u001b[0m\u001b[0m\n\u001b[1;32m      8\u001b[0m \u001b[0;32mwhile\u001b[0m \u001b[0;32mTrue\u001b[0m\u001b[0;34m:\u001b[0m\u001b[0;34m\u001b[0m\u001b[0;34m\u001b[0m\u001b[0m\n\u001b[0;32m----> 9\u001b[0;31m   \u001b[0muser\u001b[0m \u001b[0;34m=\u001b[0m \u001b[0minput\u001b[0m \u001b[0;34m(\u001b[0m\u001b[0;34m\"elije:piedra,papel,tijera,lagarto,spock,papa,heavy ó reglas si no las conoces\"\u001b[0m\u001b[0;34m)\u001b[0m\u001b[0;34m.\u001b[0m\u001b[0mlower\u001b[0m\u001b[0;34m(\u001b[0m\u001b[0;34m)\u001b[0m\u001b[0;34m\u001b[0m\u001b[0;34m\u001b[0m\u001b[0m\n\u001b[0m\u001b[1;32m     10\u001b[0m   \u001b[0;31m#sleep(0.9)\u001b[0m\u001b[0;34m\u001b[0m\u001b[0;34m\u001b[0m\u001b[0;34m\u001b[0m\u001b[0m\n\u001b[1;32m     11\u001b[0m   \u001b[0;32mif\u001b[0m \u001b[0muser\u001b[0m \u001b[0;34m==\u001b[0m \u001b[0;34m\"reglas\"\u001b[0m\u001b[0;34m:\u001b[0m\u001b[0;34m\u001b[0m\u001b[0;34m\u001b[0m\u001b[0m\n",
            "\u001b[0;32m/usr/local/lib/python3.7/dist-packages/ipykernel/kernelbase.py\u001b[0m in \u001b[0;36mraw_input\u001b[0;34m(self, prompt)\u001b[0m\n\u001b[1;32m    861\u001b[0m             \u001b[0mself\u001b[0m\u001b[0;34m.\u001b[0m\u001b[0m_parent_ident\u001b[0m\u001b[0;34m,\u001b[0m\u001b[0;34m\u001b[0m\u001b[0;34m\u001b[0m\u001b[0m\n\u001b[1;32m    862\u001b[0m             \u001b[0mself\u001b[0m\u001b[0;34m.\u001b[0m\u001b[0m_parent_header\u001b[0m\u001b[0;34m,\u001b[0m\u001b[0;34m\u001b[0m\u001b[0;34m\u001b[0m\u001b[0m\n\u001b[0;32m--> 863\u001b[0;31m             \u001b[0mpassword\u001b[0m\u001b[0;34m=\u001b[0m\u001b[0;32mFalse\u001b[0m\u001b[0;34m,\u001b[0m\u001b[0;34m\u001b[0m\u001b[0;34m\u001b[0m\u001b[0m\n\u001b[0m\u001b[1;32m    864\u001b[0m         )\n\u001b[1;32m    865\u001b[0m \u001b[0;34m\u001b[0m\u001b[0m\n",
            "\u001b[0;32m/usr/local/lib/python3.7/dist-packages/ipykernel/kernelbase.py\u001b[0m in \u001b[0;36m_input_request\u001b[0;34m(self, prompt, ident, parent, password)\u001b[0m\n\u001b[1;32m    902\u001b[0m             \u001b[0;32mexcept\u001b[0m \u001b[0mKeyboardInterrupt\u001b[0m\u001b[0;34m:\u001b[0m\u001b[0;34m\u001b[0m\u001b[0;34m\u001b[0m\u001b[0m\n\u001b[1;32m    903\u001b[0m                 \u001b[0;31m# re-raise KeyboardInterrupt, to truncate traceback\u001b[0m\u001b[0;34m\u001b[0m\u001b[0;34m\u001b[0m\u001b[0;34m\u001b[0m\u001b[0m\n\u001b[0;32m--> 904\u001b[0;31m                 \u001b[0;32mraise\u001b[0m \u001b[0mKeyboardInterrupt\u001b[0m\u001b[0;34m(\u001b[0m\u001b[0;34m\"Interrupted by user\"\u001b[0m\u001b[0;34m)\u001b[0m \u001b[0;32mfrom\u001b[0m \u001b[0;32mNone\u001b[0m\u001b[0;34m\u001b[0m\u001b[0;34m\u001b[0m\u001b[0m\n\u001b[0m\u001b[1;32m    905\u001b[0m             \u001b[0;32mexcept\u001b[0m \u001b[0mException\u001b[0m \u001b[0;32mas\u001b[0m \u001b[0me\u001b[0m\u001b[0;34m:\u001b[0m\u001b[0;34m\u001b[0m\u001b[0;34m\u001b[0m\u001b[0m\n\u001b[1;32m    906\u001b[0m                 \u001b[0mself\u001b[0m\u001b[0;34m.\u001b[0m\u001b[0mlog\u001b[0m\u001b[0;34m.\u001b[0m\u001b[0mwarning\u001b[0m\u001b[0;34m(\u001b[0m\u001b[0;34m\"Invalid Message:\"\u001b[0m\u001b[0;34m,\u001b[0m \u001b[0mexc_info\u001b[0m\u001b[0;34m=\u001b[0m\u001b[0;32mTrue\u001b[0m\u001b[0;34m)\u001b[0m\u001b[0;34m\u001b[0m\u001b[0;34m\u001b[0m\u001b[0m\n",
            "\u001b[0;31mKeyboardInterrupt\u001b[0m: Interrupted by user"
          ]
        }
      ],
      "source": [
        "import random\n",
        "import time\n",
        "\n",
        "\n",
        "ppot=[\"piedra\",\"papel\",\"tijera\",\"lagarto\",\"spock\",\"papa\",\"heavy\",\"reglas\"]\n",
        "sep=\"-\"*15\n",
        "\n",
        "while True:\n",
        "  user = input (\"elije:piedra,papel,tijera,lagarto,spock,papa,heavy ó reglas si no las conoces\").lower()\n",
        "  #sleep(0.9)\n",
        "  if user == \"reglas\":\n",
        "    print(\"tijera corta papel paper,\\n papel cubre la piedra.\\n piedra espicha lagarto.\\n lagarto envenena Spock.\\n Spock desvanece tijera.\\n tijera decapita lagarto.\\n lagarto se come el papel.\\n Papel refuta Spock.\\n Spock vaporiza la piedra.\\n piedra rompe  tijera.\\n papa ignora piedra.\\n papa rompe papel.\\n papa daña tijera.\\n heavy corrompe papa.\\n heavy mata lagarto.\\n heavy endemonia a spock.\\n ahora... buena suerte!!\")\n",
        "\n",
        "  if user not in ppot:\n",
        "    print(\"\\nMovimiento no valido\")\n",
        "    continue\n",
        "  pc = random.choice(ppot)\n",
        "  #sleep(0.9)\n",
        "  print(f\"\\nLa pc ha seleccionado {pc}\")\n",
        "  #sleep(0.9)\n",
        "  if user == ppot:\n",
        "    print(f\"\\n¡Empate!,ambos eligieron {user}\")\n",
        "  elif user == \"piedra\" and pc == \"tijera\":\n",
        "      print(f\"\\n¡Ganaste!,{user} gana contra la {pc}\")\n",
        "  elif user == \"piedra\" and pc == \"heavy\":\n",
        "      print(f\"\\n¡Ganaste!,{user} gana contra la {pc}\")\n",
        "  elif user == \"piedra\" and pc == \"lagarto\":\n",
        "      print(f\"\\n¡Ganaste!,{user} gana contra la {pc}\")   \n",
        "  elif user == \"papel\" and pc == \"spock\":\n",
        "      print(f\"\\n¡Ganaste!,{user} gana contra la {pc}\")\n",
        "  elif user == \"papel\" and pc == \"heavy\":\n",
        "      print(f\"\\n¡Ganaste!,{user} gana contra la {pc}\")\n",
        "  elif user == \"papel\" and pc == \"piedra\":\n",
        "      print(f\"\\n¡Ganaste!,{user} gana contra la {pc}\")\n",
        "  elif user == \"tijera\" and pc == \"papel\":\n",
        "      print(f\"\\n¡Ganaste!,{user} gana contra la {pc}\")\n",
        "  elif user == \"tijera\" and pc == \"lagarto\":\n",
        "      print(f\"\\n¡Ganaste!,{user} gana contra la {pc}\")\n",
        "  elif user == \"tijera\" and pc == \"heavy\":\n",
        "      print(f\"\\n¡Ganaste!,{user} gana contra la {pc}\")    \n",
        "  elif user == \"Lagarto\" and pc == \"Papa\":\n",
        "      print(f\"¡Ganaste!,{user} gana contra la {pc}\")\n",
        "  elif user == \"Lagarto\" and pc == \"Papel\":\n",
        "      print(f\"¡Ganaste!,{user} gana contra la {pc}\")\n",
        "  elif user == \"Lagarto\" and pc == \"spock\":\n",
        "      print(f\"¡Ganaste!,{user} gana contra la {pc}\")        \n",
        "  elif user == \"papa\" and pc == \"tijera\":\n",
        "      print(f\"¡Ganaste!,{user} gana contra la {pc}\")\n",
        "  elif user == \"papa\" and pc == \"piedra\":\n",
        "      print(f\"¡Ganaste!,{user} gana contra la {pc}\")\n",
        "  elif user == \"papa\" and pc == \"papel\":\n",
        "      print(f\"¡Ganaste!,{user} gana contra la {pc}\")\n",
        "  elif user == \"heavy\" and pc == \"papa\":\n",
        "      print(f\"¡Ganaste!,{user} gana contra la {pc}\")\n",
        "  elif user == \"heavy\" and pc == \"spock\":\n",
        "      print(f\"¡Ganaste!,{user} gana contra la {pc}\")\n",
        "  elif user == \"heavy\" and pc == \"lagarto\":\n",
        "      print(f\"¡Ganaste!,{user} gana contra la {pc}\")\n",
        "  elif user == \"spock\" and pc == \"papa\":\n",
        "      print(f\"¡Ganaste!,{user} gana contra la {pc}\")\n",
        "  elif user == \"spock\" and pc == \"tijera\":\n",
        "      print(f\"¡Ganaste!,{user} gana contra la {pc}\")\n",
        "  elif user == \"spock\" and pc == \"piedra\":\n",
        "      print(f\"¡Ganaste!,{user} gana contra la {pc}\")\n",
        "  else:\n",
        "    print(f\"\\nperdiste,{user} pierde contra{pc}\")\n",
        "  #sleep(0.9)\n",
        "  print(f\"{sep}Fin del juego{sep}\") \n",
        "\n"
      ]
    }
  ]
}