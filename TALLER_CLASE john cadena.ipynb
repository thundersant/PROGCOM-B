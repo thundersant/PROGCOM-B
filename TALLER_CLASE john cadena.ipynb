{
  "nbformat": 4,
  "nbformat_minor": 0,
  "metadata": {
    "colab": {
      "name": "TALLER CLASE",
      "provenance": []
    },
    "kernelspec": {
      "name": "python3",
      "display_name": "Python 3"
    },
    "language_info": {
      "name": "python"
    }
  },
  "cells": [
    {
      "cell_type": "markdown",
      "source": [
        "## TALLER \n",
        "\n",
        "INDICAR SI UN NUMERO N ES UN NUMERO PRIMO(SIENDO N UN NUMERO QUE SE LEE)\n",
        "\n"
      ],
      "metadata": {
        "id": "_EjlA1JALS4M"
      }
    },
    {
      "cell_type": "code",
      "source": [
        "# while\n",
        "N=int (input(\"ingrese UN NUMERO\"))\n",
        "\n",
        "while N % N == or N % 1 == N:\n",
        "  print (\"el numero digitado es primo\")\n"
      ],
      "metadata": {
        "colab": {
          "base_uri": "https://localhost:8080/"
        },
        "id": "MkO2yfFvVpXt",
        "outputId": "f1fe89c5-8fb4-4477-afac-67666762a5bc"
      },
      "execution_count": 20,
      "outputs": [
        {
          "name": "stdout",
          "output_type": "stream",
          "text": [
            "ingrese UN NUMERO1\n"
          ]
        }
      ]
    },
    {
      "cell_type": "code",
      "source": [
        "#for\n",
        "N=int (input(\"ingrese UN NUMERO\"))\n",
        "c=0\n",
        "for i in range (1,N+1):\n",
        "  if N % i == 0:\n",
        "      c=c+1\n",
        "if c==2:   \n",
        "        print (\"el numero digitado es primo\")\n",
        "else :\n",
        "  print (\"el numero no es primo\")\n"
      ],
      "metadata": {
        "colab": {
          "base_uri": "https://localhost:8080/"
        },
        "id": "lblebXkTZUn_",
        "outputId": "f2ad28ba-ab29-45fa-c9ea-d51c5bfd54f8"
      },
      "execution_count": 32,
      "outputs": [
        {
          "output_type": "stream",
          "name": "stdout",
          "text": [
            "ingrese UN NUMERO1\n",
            "el numero no es primo\n"
          ]
        }
      ]
    },
    {
      "cell_type": "code",
      "source": [
        "# multiplicacion while\n",
        "\n",
        "n=1\n",
        "while n<11:\n",
        "  print(\"tabla del \",n)\n",
        "  for i in range (1,11):\n",
        "    print (n,\"X\",i,\"=\",n*i)\n",
        "  n+=1  "
      ],
      "metadata": {
        "id": "lCYrGkE0eZdf"
      },
      "execution_count": null,
      "outputs": []
    },
    {
      "cell_type": "code",
      "source": [
        "# multiplicacion for\n",
        "\n",
        "N=int (input(\"ingrese la tabla que desee calcular\"))\n",
        "print (\"tabla del \",N)\n",
        "for i in range(1,11):\n",
        "  print(N,\"X\",i,N*i)"
      ],
      "metadata": {
        "id": "yf2YiqZnedqX"
      },
      "execution_count": null,
      "outputs": []
    }
  ]
}